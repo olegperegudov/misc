{
 "metadata": {
  "language_info": {
   "codemirror_mode": {
    "name": "ipython",
    "version": 3
   },
   "file_extension": ".py",
   "mimetype": "text/x-python",
   "name": "python",
   "nbconvert_exporter": "python",
   "pygments_lexer": "ipython3",
   "version": "3.9.2-final"
  },
  "orig_nbformat": 2,
  "kernelspec": {
   "name": "python3",
   "display_name": "Python 3.9.2 64-bit",
   "metadata": {
    "interpreter": {
     "hash": "bd47a18303be29f6974e8153b6e52f9a90ee51d979b528b256bf5f0592078974"
    }
   }
  }
 },
 "nbformat": 4,
 "nbformat_minor": 2,
 "cells": [
  {
   "cell_type": "code",
   "execution_count": 33,
   "metadata": {},
   "outputs": [],
   "source": [
    "# importing required libraries\n",
    "import pandas as pd\n",
    "import lightgbm as lgb\n",
    "from sklearn.metrics import accuracy_score\n",
    "from sklearn.model_selection import train_test_split"
   ]
  },
  {
   "cell_type": "code",
   "execution_count": 34,
   "metadata": {},
   "outputs": [],
   "source": [
    "df = pd.read_csv(r'data\\adult.csv')\n",
    "\n",
    "x = df.drop('income', 1)\n",
    "y = df.income\n",
    "\n",
    "x = pd.get_dummies(x)\n",
    "y = y.map({'>50K':1, '<=50K':0})"
   ]
  },
  {
   "cell_type": "code",
   "execution_count": 35,
   "metadata": {},
   "outputs": [],
   "source": [
    "x_train, x_test, y_train, y_test = train_test_split(x, y, test_size=0.10, random_state=1)"
   ]
  },
  {
   "cell_type": "code",
   "execution_count": 36,
   "metadata": {},
   "outputs": [
    {
     "output_type": "stream",
     "name": "stdout",
     "text": [
      "Shape of training data : (43957, 108)\nShape of testing data : (4885, 108)\n"
     ]
    }
   ],
   "source": [
    "# shape of the dataset\n",
    "print('Shape of training data :', x_train.shape)\n",
    "print('Shape of testing data :', x_test.shape)"
   ]
  },
  {
   "cell_type": "code",
   "execution_count": 37,
   "metadata": {},
   "outputs": [
    {
     "output_type": "execute_result",
     "data": {
      "text/plain": [
       "LGBMClassifier()"
      ]
     },
     "metadata": {},
     "execution_count": 37
    }
   ],
   "source": [
    "# model object\n",
    "model = lgb.LGBMClassifier()\n",
    "\n",
    "# fit the model with the training data\n",
    "model.fit(x_train, y_train)"
   ]
  },
  {
   "cell_type": "code",
   "execution_count": 38,
   "metadata": {},
   "outputs": [
    {
     "output_type": "stream",
     "name": "stdout",
     "text": [
      "\naccuracy_score on train dataset :  0.88\n"
     ]
    }
   ],
   "source": [
    "# Accuray Score on train dataset\n",
    "predict_train = model.predict(x_train)\n",
    "accuracy_train = accuracy_score(y_train, predict_train)\n",
    "print('\\naccuracy_score on train dataset : ', round(accuracy_train, 2))"
   ]
  },
  {
   "cell_type": "code",
   "execution_count": 39,
   "metadata": {},
   "outputs": [
    {
     "output_type": "stream",
     "name": "stdout",
     "text": [
      "\naccuracy_score on test dataset :  0.87\n"
     ]
    }
   ],
   "source": [
    "# Accuracy Score on test dataset\n",
    "predict_test = model.predict(x_test)\n",
    "accuracy_test = accuracy_score(y_test, predict_test)\n",
    "print('\\naccuracy_score on test dataset : ', round(accuracy_test, 2))"
   ]
  },
  {
   "cell_type": "code",
   "execution_count": null,
   "metadata": {},
   "outputs": [],
   "source": []
  }
 ]
}